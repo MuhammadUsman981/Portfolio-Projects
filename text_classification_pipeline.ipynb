{
  "nbformat": 4,
  "nbformat_minor": 0,
  "metadata": {
    "colab": {
      "provenance": [],
      "gpuType": "T4"
    },
    "kernelspec": {
      "name": "python3",
      "display_name": "Python 3"
    },
    "language_info": {
      "name": "python"
    },
    "accelerator": "GPU"
  },
  "cells": [
    {
      "cell_type": "code",
      "source": [
        "# Important libraries to import.\n",
        "\n",
        "import pandas as pd\n",
        "import numpy as np\n",
        "import matplotlib.pyplot as plt\n",
        "import seaborn as sns\n",
        "import re\n",
        "import warnings\n",
        "warnings.filterwarnings('ignore')\n",
        "\n",
        "# Text processing libraries\n",
        "import nltk\n",
        "from nltk.corpus import stopwords\n",
        "from nltk.tokenize import word_tokenize\n",
        "from nltk.stem import PorterStemmer, WordNetLemmatizer\n",
        "from nltk.util import ngrams\n",
        "\n",
        "# Machine Learning libraries\n",
        "from sklearn.model_selection import train_test_split\n",
        "from sklearn.feature_extraction.text import CountVectorizer, TfidfVectorizer\n",
        "from sklearn.naive_bayes import MultinomialNB\n",
        "from sklearn.linear_model import LogisticRegression\n",
        "from sklearn.svm import LinearSVC\n",
        "from sklearn.metrics import accuracy_score, precision_recall_fscore_support, classification_report, confusion_matrix\n",
        "from sklearn.pipeline import Pipeline\n",
        "\n",
        "# Word embeddings\n",
        "from gensim.models import Word2Vec\n",
        "import gensim.downloader as api\n",
        "\n",
        "# Download required NLTK data\n",
        "nltk.download('punkt', quiet=True)\n",
        "nltk.download('stopwords', quiet=True)\n",
        "nltk.download('wordnet', quiet=True)\n",
        "nltk.download('averaged_perceptron_tagger', quiet=True)\n",
        "nltk.download('punkt_tab', quiet=True) # Add punkt_tab\n",
        "\n",
        "# Set random seeds for reproducibility\n",
        "np.random.seed(42)\n",
        "\n",
        "print(\"All libraries imported successfully!\")\n",
        "print(\"=\" * 60)"
      ],
      "metadata": {
        "colab": {
          "base_uri": "https://localhost:8080/"
        },
        "id": "urYd6Un51iZp",
        "outputId": "16499953-1d80-49dd-c4ce-584ea9af55bb"
      },
      "execution_count": 44,
      "outputs": [
        {
          "output_type": "stream",
          "name": "stdout",
          "text": [
            "All libraries imported successfully!\n",
            "============================================================\n"
          ]
        }
      ]
    },
    {
      "cell_type": "code",
      "source": [
        "# from ucimlrepo import list_available_datasets\n",
        "# list_available_datasets()"
      ],
      "metadata": {
        "collapsed": true,
        "id": "RSiSpndS4TYD"
      },
      "execution_count": 45,
      "outputs": []
    },
    {
      "cell_type": "code",
      "source": [
        "# Load the real SMS Spam Collection dataset from UCI ML Repository\n",
        "# Dataset contains 5,574 SMS messages labeled as spam or ham\n",
        "try:\n",
        "    # Method 1: Try to load from ucimlrepo (if available)\n",
        "    try:\n",
        "        from ucimlrepo import fetch_ucirepo\n",
        "        print(\"Loading SMS Spam Collection dataset from UCI ML Repository...\")\n",
        "        sms_spam_collection = fetch_ucirepo(id=228)\n",
        "        X_raw = sms_spam_collection.data.features\n",
        "        y_raw = sms_spam_collection.data.targets\n",
        "        df = pd.concat([X_raw, y_raw], axis=1)\n",
        "        df.columns = ['message', 'label']\n",
        "        print(\"✓ Dataset loaded successfully using ucimlrepo!\")\n",
        "    except ImportError:\n",
        "        print(\"ucimlrepo not available, trying alternative method...\")\n",
        "        raise ImportError(\"Fallback to manual loading\")\n",
        "\n",
        "except:\n",
        "    # Method 2: Manual loading (you would download the file first)\n",
        "    print(\"Loading dataset manually...\")\n",
        "    print(\"To get the real dataset:\")\n",
        "    print(\"1. Download from: https://archive.ics.uci.edu/dataset/228/sms+spam+collection\")\n",
        "    print(\"2. Or run: pip install ucimlrepo\")\n",
        "    print(\"\")\n",
        "    print(\"For demonstration, using sample data structure similar to real dataset...\")\n",
        ""
      ],
      "metadata": {
        "colab": {
          "base_uri": "https://localhost:8080/"
        },
        "id": "WNWbaI9O2ax-",
        "outputId": "57dcc787-8601-45c4-a513-1eb369b725b2"
      },
      "execution_count": 46,
      "outputs": [
        {
          "output_type": "stream",
          "name": "stdout",
          "text": [
            "Loading SMS Spam Collection dataset from UCI ML Repository...\n",
            "Loading dataset manually...\n",
            "To get the real dataset:\n",
            "1. Download from: https://archive.ics.uci.edu/dataset/228/sms+spam+collection\n",
            "2. Or run: pip install ucimlrepo\n",
            "\n",
            "For demonstration, using sample data structure similar to real dataset...\n"
          ]
        }
      ]
    },
    {
      "cell_type": "code",
      "source": [
        "# import pandas as pd\n",
        "# import zipfile\n",
        "# import io\n",
        "# import requests\n",
        "\n",
        "# # Download the zip file manually\n",
        "# url = \"https://archive.ics.uci.edu/ml/machine-learning-databases/00228/smsspamcollection.zip\"\n",
        "# response = requests.get(url)\n",
        "\n",
        "# # Open the zip file in memory\n",
        "# with zipfile.ZipFile(io.BytesIO(response.content)) as z:\n",
        "#     with z.open(\"SMSSpamCollection\") as f:\n",
        "#         df = pd.read_csv(f, sep='\\t', header=None, names=['label', 'message'])\n",
        "\n",
        "# # Preview\n",
        "# print(df.head())"
      ],
      "metadata": {
        "id": "K4j6lbv05OrK"
      },
      "execution_count": 47,
      "outputs": []
    },
    {
      "cell_type": "code",
      "source": [
        "# Load the real SMS Spam Collection dataset from UCI ML Repository\n",
        "# Dataset contains 5,574 SMS messages labeled as spam or ham\n",
        "\n",
        "import zipfile\n",
        "import io\n",
        "import requests\n",
        "\n",
        "print(\"Loading SMS Spam Collection dataset from UCI ML Repository...\")\n",
        "print(\"Dataset contains 5,574 real SMS messages labeled as spam or ham\")\n",
        "\n",
        "try:\n",
        "    # Download the zip file directly from UCI repository\n",
        "    url = \"https://archive.ics.uci.edu/ml/machine-learning-databases/00228/smsspamcollection.zip\"\n",
        "    print(f\"Downloading from: {url}\")\n",
        "\n",
        "    response = requests.get(url)\n",
        "    response.raise_for_status()  # Raise an exception for bad status codes\n",
        "\n",
        "    # Open the zip file in memory and extract the dataset\n",
        "    with zipfile.ZipFile(io.BytesIO(response.content)) as z:\n",
        "        with z.open(\"SMSSpamCollection\") as f:\n",
        "            # Load the tab-separated file with proper column names\n",
        "            df = pd.read_csv(f, sep='\\t', header=None, names=['label', 'message'])\n",
        "\n",
        "    print(\"✓ Dataset loaded successfully!\")\n",
        "    print(f\"✓ Loaded {len(df)} real SMS messages from UCI ML Repository\")\n",
        "\n",
        "except Exception as e:\n",
        "    print(f\"❌ Error loading dataset: {e}\")\n",
        "    print(\"Please check your internet connection or try downloading manually.\")\n",
        "    raise"
      ],
      "metadata": {
        "colab": {
          "base_uri": "https://localhost:8080/"
        },
        "id": "HGY3pKEd7E-_",
        "outputId": "c89bd6e3-7e84-48fe-e250-b3abea7e2844"
      },
      "execution_count": 48,
      "outputs": [
        {
          "output_type": "stream",
          "name": "stdout",
          "text": [
            "Loading SMS Spam Collection dataset from UCI ML Repository...\n",
            "Dataset contains 5,574 real SMS messages labeled as spam or ham\n",
            "Downloading from: https://archive.ics.uci.edu/ml/machine-learning-databases/00228/smsspamcollection.zip\n",
            "✓ Dataset loaded successfully!\n",
            "✓ Loaded 5572 real SMS messages from UCI ML Repository\n"
          ]
        }
      ]
    },
    {
      "cell_type": "code",
      "source": [
        "# Shuffle the dataset for better training\n",
        "df = df.sample(frac=1, random_state=42).reset_index(drop=True)"
      ],
      "metadata": {
        "id": "J0jLrG-h7ISh"
      },
      "execution_count": 49,
      "outputs": []
    },
    {
      "cell_type": "code",
      "source": [
        "# Basic dataset information\n",
        "print(f\"Dataset shape: {df.shape}\")\n",
        "print(f\"Dataset info: Using SMS Spam Collection structure (5,574 messages in original)\")\n",
        "print(f\"\\nClass distribution:\")\n",
        "class_counts = df['label'].value_counts()\n",
        "print(class_counts)\n",
        "print(f\"\\nClass balance:\")\n",
        "class_proportions = df['label'].value_counts(normalize=True)\n",
        "print(class_proportions)"
      ],
      "metadata": {
        "colab": {
          "base_uri": "https://localhost:8080/"
        },
        "id": "xcY2SEde7Nek",
        "outputId": "0112dcc9-d42a-47d1-c7ca-1670f2e43d68"
      },
      "execution_count": 50,
      "outputs": [
        {
          "output_type": "stream",
          "name": "stdout",
          "text": [
            "Dataset shape: (5572, 2)\n",
            "Dataset info: Using SMS Spam Collection structure (5,574 messages in original)\n",
            "\n",
            "Class distribution:\n",
            "label\n",
            "ham     4825\n",
            "spam     747\n",
            "Name: count, dtype: int64\n",
            "\n",
            "Class balance:\n",
            "label\n",
            "ham     0.865937\n",
            "spam    0.134063\n",
            "Name: proportion, dtype: float64\n"
          ]
        }
      ]
    },
    {
      "cell_type": "code",
      "source": [
        "# Check for missing values\n",
        "print(f\"\\nMissing values:\")\n",
        "print(df.isnull().sum())"
      ],
      "metadata": {
        "colab": {
          "base_uri": "https://localhost:8080/"
        },
        "id": "zNfSw0ae7V-O",
        "outputId": "b65e9983-af86-4984-aaa0-23d1606538aa"
      },
      "execution_count": 51,
      "outputs": [
        {
          "output_type": "stream",
          "name": "stdout",
          "text": [
            "\n",
            "Missing values:\n",
            "label      0\n",
            "message    0\n",
            "dtype: int64\n"
          ]
        }
      ]
    },
    {
      "cell_type": "code",
      "source": [
        "# Message length statistics\n",
        "message_lengths = df['message'].str.len()\n",
        "print(f\"\\nMessage length statistics:\")\n",
        "print(f\"Mean length: {message_lengths.mean():.2f} characters\")\n",
        "print(f\"Median length: {message_lengths.median():.2f} characters\")\n",
        "print(f\"Max length: {message_lengths.max()} characters\")\n",
        "print(f\"Min length: {message_lengths.min()} characters\")"
      ],
      "metadata": {
        "colab": {
          "base_uri": "https://localhost:8080/"
        },
        "id": "Q1hGeAOf7ZKf",
        "outputId": "df2c4502-4018-4fac-8fe7-bf9ced48c559"
      },
      "execution_count": 52,
      "outputs": [
        {
          "output_type": "stream",
          "name": "stdout",
          "text": [
            "\n",
            "Message length statistics:\n",
            "Mean length: 80.49 characters\n",
            "Median length: 62.00 characters\n",
            "Max length: 910 characters\n",
            "Min length: 2 characters\n"
          ]
        }
      ]
    },
    {
      "cell_type": "code",
      "source": [
        "# Display sample messages (3-5 per class as requested in assignment)\n",
        "print(f\"\\n=== REPRESENTATIVE EXAMPLES FROM DATASET ===\")\n",
        "print(\"(These examples reflect the actual SMS Spam Collection patterns)\")\n",
        "\n",
        "for label in df['label'].unique():\n",
        "    print(f\"\\n{label.upper()} messages:\")\n",
        "    samples = df[df['label'] == label]['message'].head(5)\n",
        "    for i, msg in enumerate(samples, 1):\n",
        "        print(f\"{i}. {msg}\")"
      ],
      "metadata": {
        "colab": {
          "base_uri": "https://localhost:8080/"
        },
        "id": "22E6V00e7eIq",
        "outputId": "8c5a0d26-0eb1-464f-d859-6a80a55b6314"
      },
      "execution_count": 53,
      "outputs": [
        {
          "output_type": "stream",
          "name": "stdout",
          "text": [
            "\n",
            "=== REPRESENTATIVE EXAMPLES FROM DATASET ===\n",
            "(These examples reflect the actual SMS Spam Collection patterns)\n",
            "\n",
            "HAM messages:\n",
            "1. Squeeeeeze!! This is christmas hug.. If u lik my frndshp den hug me back.. If u get 3 u r cute:) 6 u r luvd:* 9 u r so lucky;) None? People hate u:\n",
            "2. And also I've sorta blown him off a couple times recently so id rather not text him out of the blue looking for weed\n",
            "3. Mmm thats better now i got a roast down me! id b better if i had a few drinks down me 2! Good indian?\n",
            "4. Mm have some kanji dont eat anything heavy ok\n",
            "5. So there's a ring that comes with the guys costumes. It's there so they can gift their future yowifes. Hint hint\n",
            "\n",
            "SPAM messages:\n",
            "1. FREE RINGTONE text FIRST to 87131 for a poly or text GET to 87131 for a true tone! Help? 0845 2814032 16 after 1st free, tones are 3x£150pw to e£nd txt stop\n",
            "2. This is the 2nd time we have tried 2 contact u. U have won the £750 Pound prize. 2 claim is easy, call 087187272008 NOW1! Only 10p per minute. BT-national-rate.\n",
            "3. Reminder: You have not downloaded the content you have already paid for. Goto http://doit. mymoby. tv/ to collect your content.\n",
            "4. Guess what! Somebody you know secretly fancies you! Wanna find out who it is? Give us a call on 09065394973 from Landline DATEBox1282EssexCM61XN 150p/min 18\n",
            "5. 8007 FREE for 1st week! No1 Nokia tone 4 ur mob every week just txt NOKIA to 8007 Get txting and tell ur mates www.getzed.co.uk POBox 36504 W4 5WQ norm 150p/tone 16+\n"
          ]
        }
      ]
    },
    {
      "cell_type": "code",
      "source": [
        "# Additional analysis specific to SMS data\n",
        "print(f\"\\n=== SMS-SPECIFIC ANALYSIS ===\")\n",
        "# Look for common spam indicators\n",
        "spam_msgs = df[df['label'] == 'spam']['message']\n",
        "ham_msgs = df[df['label'] == 'ham']['message']\n",
        "\n",
        "print(f\"Spam messages with 'free': {spam_msgs.str.contains('free', case=False).sum()}\")\n",
        "print(f\"Spam messages with 'win': {spam_msgs.str.contains('win', case=False).sum()}\")\n",
        "print(f\"Spam messages with 'call': {spam_msgs.str.contains('call', case=False).sum()}\")\n",
        "pattern_count = spam_msgs.str.contains(r\"\\d+\", regex=True).sum()\n",
        "print(f\"Spam messages with numbers: {pattern_count}\")\n",
        "\n",
        "print(f\"\\nAverage length - Spam: {spam_msgs.str.len().mean():.1f} chars\")\n",
        "print(f\"Average length - Ham: {ham_msgs.str.len().mean():.1f} chars\")\n"
      ],
      "metadata": {
        "colab": {
          "base_uri": "https://localhost:8080/"
        },
        "id": "-dEkbClN8EWl",
        "outputId": "a2aa356d-4d64-4933-b3c5-a18ea0bd5b56"
      },
      "execution_count": 54,
      "outputs": [
        {
          "output_type": "stream",
          "name": "stdout",
          "text": [
            "\n",
            "=== SMS-SPECIFIC ANALYSIS ===\n",
            "Spam messages with 'free': 199\n",
            "Spam messages with 'win': 100\n",
            "Spam messages with 'call': 347\n",
            "Spam messages with numbers: 708\n",
            "\n",
            "Average length - Spam: 138.7 chars\n",
            "Average length - Ham: 71.5 chars\n"
          ]
        }
      ]
    },
    {
      "cell_type": "code",
      "source": [
        "plt.figure(figsize=(10, 6))\n",
        "class_counts.plot(kind='bar', color=['lightcoral', 'skyblue'])\n",
        "plt.title('Class Distribution\\n(SMS Spam Collection Dataset)', fontsize=14)\n",
        "plt.xlabel('Class')\n",
        "plt.ylabel('Count')\n",
        "plt.xticks(rotation=0)\n",
        "plt.grid(axis='y')\n",
        "plt.show()"
      ],
      "metadata": {
        "colab": {
          "base_uri": "https://localhost:8080/",
          "height": 587
        },
        "id": "3uAGLqTt-YgJ",
        "outputId": "747c0db3-35aa-4c78-922f-6753a5ac869e"
      },
      "execution_count": 55,
      "outputs": [
        {
          "output_type": "display_data",
          "data": {
            "text/plain": [
              "<Figure size 1000x600 with 1 Axes>"
            ],
            "image/png": "[encoded data removed]"
          },
          "metadata": {}
        }
      ]
    },
    {
      "cell_type": "code",
      "source": [
        "plt.figure(figsize=(10, 6))\n",
        "plt.hist(message_lengths, bins=50, alpha=0.7, color='lightgreen', edgecolor='black')\n",
        "plt.title('Message Length Distribution', fontsize=14)\n",
        "plt.xlabel('Character Count')\n",
        "plt.ylabel('Frequency')\n",
        "plt.grid(True)\n",
        "plt.show()"
      ],
      "metadata": {
        "colab": {
          "base_uri": "https://localhost:8080/",
          "height": 565
        },
        "id": "UzHLj__58w6J",
        "outputId": "95279a2e-9682-4963-868b-f152f787befb"
      },
      "execution_count": 56,
      "outputs": [
        {
          "output_type": "display_data",
          "data": {
            "text/plain": [
              "<Figure size 1000x600 with 1 Axes>"
            ],
            "image/png": "[encoded data removed]"
          },
          "metadata": {}
        }
      ]
    },
    {
      "cell_type": "code",
      "source": [
        "spam_lengths = df[df['label'] == 'spam']['message'].str.len()\n",
        "ham_lengths = df[df['label'] == 'ham']['message'].str.len()\n",
        "\n",
        "plt.figure(figsize=(10, 6))\n",
        "plt.hist([spam_lengths, ham_lengths], bins=30, alpha=0.7,\n",
        "         color=['red', 'blue'], label=['Spam', 'Ham'])\n",
        "plt.title('Length Distribution by Class', fontsize=14)\n",
        "plt.xlabel('Character Count')\n",
        "plt.ylabel('Frequency')\n",
        "plt.legend()\n",
        "plt.grid(True)\n",
        "plt.show()"
      ],
      "metadata": {
        "colab": {
          "base_uri": "https://localhost:8080/",
          "height": 565
        },
        "id": "ZTUlQy_386Tl",
        "outputId": "ab4aaf44-0956-47e4-a702-f82a4a3b889c"
      },
      "execution_count": 57,
      "outputs": [
        {
          "output_type": "display_data",
          "data": {
            "text/plain": [
              "<Figure size 1000x600 with 1 Axes>"
            ],
            "image/png": "[encoded data removed]"
          },
          "metadata": {}
        }
      ]
    },
    {
      "cell_type": "code",
      "source": [
        "spam_word_counts = df[df['label'] == 'spam']['message'].str.split().str.len()\n",
        "ham_word_counts = df[df['label'] == 'ham']['message'].str.split().str.len()\n",
        "\n",
        "plt.figure(figsize=(10, 6))\n",
        "plt.hist([spam_word_counts, ham_word_counts], bins=20, alpha=0.7,\n",
        "         color=['red', 'blue'], label=['Spam', 'Ham'])\n",
        "plt.title('Word Count Distribution', fontsize=14)\n",
        "plt.xlabel('Number of Words')\n",
        "plt.ylabel('Frequency')\n",
        "plt.legend()\n",
        "plt.grid(True)\n",
        "plt.show()"
      ],
      "metadata": {
        "colab": {
          "base_uri": "https://localhost:8080/",
          "height": 565
        },
        "id": "8Ebbp6LC9EnM",
        "outputId": "e93ad2ec-e67c-43ea-9f07-8c4bbddcc5c8"
      },
      "execution_count": 58,
      "outputs": [
        {
          "output_type": "display_data",
          "data": {
            "text/plain": [
              "<Figure size 1000x600 with 1 Axes>"
            ],
            "image/png": "[encoded data removed]"
          },
          "metadata": {}
        }
      ]
    },
    {
      "cell_type": "code",
      "source": [
        "plt.figure(figsize=(8, 8))\n",
        "plt.pie(class_counts.values, labels=class_counts.index, autopct='%1.1f%%',\n",
        "        colors=['lightcoral', 'skyblue'], startangle=90)\n",
        "plt.title('Class Proportion', fontsize=14)\n",
        "plt.show()"
      ],
      "metadata": {
        "colab": {
          "base_uri": "https://localhost:8080/",
          "height": 676
        },
        "id": "KcikS2709HqC",
        "outputId": "ae152ca3-7334-4f9c-8682-6fd3a365cc80"
      },
      "execution_count": 59,
      "outputs": [
        {
          "output_type": "display_data",
          "data": {
            "text/plain": [
              "<Figure size 800x800 with 1 Axes>"
            ],
            "image/png": "[encoded data removed]"
          },
          "metadata": {}
        }
      ]
    },
    {
      "cell_type": "code",
      "source": [
        "from collections import Counter\n",
        "all_words = ' '.join(df['message'].str.lower()).split()\n",
        "word_freq = Counter(all_words).most_common(10)\n",
        "words, counts = zip(*word_freq)\n",
        "\n",
        "plt.figure(figsize=(10, 6))\n",
        "plt.bar(words, counts, color='lightsteelblue')\n",
        "plt.title('Top 10 Most Common Words', fontsize=14)\n",
        "plt.xlabel('Words')\n",
        "plt.ylabel('Frequency')\n",
        "plt.xticks(rotation=45)\n",
        "plt.grid(axis='y')\n",
        "plt.show()"
      ],
      "metadata": {
        "colab": {
          "base_uri": "https://localhost:8080/",
          "height": 580
        },
        "id": "CrMSQok_9Se3",
        "outputId": "5536f59e-a4db-460b-b448-f4a8d905f7fc"
      },
      "execution_count": 60,
      "outputs": [
        {
          "output_type": "display_data",
          "data": {
            "text/plain": [
              "<Figure size 1000x600 with 1 Axes>"
            ],
            "image/png": "[encoded data removed]"
          },
          "metadata": {}
        }
      ]
    },
    {
      "cell_type": "code",
      "source": [
        "# Print dataset provenance information\n",
        "print(f\"\\n=== DATASET INFORMATION ===\")\n",
        "print(\"Dataset: SMS Spam Collection\")\n",
        "print(\"Source: UCI Machine Learning Repository\")\n",
        "print(\"Original size: 5,574 SMS messages\")\n",
        "print(\"License: Creative Commons Attribution 4.0 International (CC BY 4.0)\")\n",
        "print(\"Citation: Almeida, T. & Hidalgo, J. (2011)\")\n",
        "print(\"URL: https://archive.ics.uci.edu/dataset/228/sms+spam+collection\")\n",
        "print(\"Description: Public set of SMS labeled messages collected for mobile phone spam research\")\n",
        "\n",
        "print(f\"\\nCurrent working dataset: {len(df)} messages\")\n",
        "print(f\"Spam messages: {len(df[df['label'] == 'spam'])} ({len(df[df['label'] == 'spam'])/len(df)*100:.1f}%)\")\n",
        "print(f\"Ham messages: {len(df[df['label'] == 'ham'])} ({len(df[df['label'] == 'ham'])/len(df)*100:.1f}%)\")\n"
      ],
      "metadata": {
        "colab": {
          "base_uri": "https://localhost:8080/"
        },
        "id": "ltiHiYDj9UFg",
        "outputId": "8dc3549f-e397-4f10-e7f5-dfda497d52df"
      },
      "execution_count": 61,
      "outputs": [
        {
          "output_type": "stream",
          "name": "stdout",
          "text": [
            "\n",
            "=== DATASET INFORMATION ===\n",
            "Dataset: SMS Spam Collection\n",
            "Source: UCI Machine Learning Repository\n",
            "Original size: 5,574 SMS messages\n",
            "License: Creative Commons Attribution 4.0 International (CC BY 4.0)\n",
            "Citation: Almeida, T. & Hidalgo, J. (2011)\n",
            "URL: https://archive.ics.uci.edu/dataset/228/sms+spam+collection\n",
            "Description: Public set of SMS labeled messages collected for mobile phone spam research\n",
            "\n",
            "Current working dataset: 5572 messages\n",
            "Spam messages: 747 (13.4%)\n",
            "Ham messages: 4825 (86.6%)\n"
          ]
        }
      ]
    },
    {
      "cell_type": "markdown",
      "source": [
        "# 2. PRE-PROCESSING PIPELINE"
      ],
      "metadata": {
        "id": "N69BkxHu-fMH"
      }
    },
    {
      "cell_type": "code",
      "metadata": {
        "id": "dc0bba52"
      },
      "source": [
        "class TextPreprocessor:\n",
        "    \"\"\"\n",
        "    A comprehensive text preprocessing pipeline for SMS messages.\n",
        "    Designed for telecom spam filtering use case.\n",
        "    \"\"\"\n",
        "\n",
        "    def __init__(self, use_stemming=True, remove_stopwords=True):\n",
        "        self.use_stemming = use_stemming\n",
        "        self.remove_stopwords = remove_stopwords\n",
        "        self.stemmer = PorterStemmer()\n",
        "        self.lemmatizer = WordNetLemmatizer()\n",
        "        self.stop_words = set(stopwords.words('english'))\n",
        "\n",
        "    def clean_text(self, text):\n",
        "        \"\"\"Clean text using regex patterns specific to SMS content\"\"\"\n",
        "        if pd.isna(text):\n",
        "            return \"\"\n",
        "\n",
        "        text = text.lower()\n",
        "        text = re.sub(r'http\\S+|www\\S+|https\\S+', '', text, flags=re.MULTILINE)\n",
        "        text = re.sub(r'\\b\\d{10,}\\b', '', text)\n",
        "        text = re.sub(r'\\b\\d{3}-\\d{3}-\\d{4}\\b', '', text)\n",
        "        text = re.sub(r'[£$€¥]\\d+', ' money ', text)\n",
        "        text = re.sub(r'[^a-zA-Z\\s]', ' ', text)\n",
        "        text = re.sub(r'\\s+', ' ', text)\n",
        "\n",
        "        return text.strip()\n",
        "\n",
        "    def tokenize_and_filter(self, text):\n",
        "        \"\"\"Tokenize and apply stop word removal\"\"\"\n",
        "        tokens = word_tokenize(text)\n",
        "\n",
        "        if self.remove_stopwords:\n",
        "            tokens = [token for token in tokens if token not in self.stop_words]\n",
        "\n",
        "        tokens = [token for token in tokens if len(token) > 1]\n",
        "        return tokens\n",
        "\n",
        "    def stem_or_lemmatize(self, tokens):\n",
        "        \"\"\"Apply stemming or lemmatization\"\"\"\n",
        "        if self.use_stemming:\n",
        "            return [self.stemmer.stem(token) for token in tokens]\n",
        "        else:\n",
        "            return [self.lemmatizer.lemmatize(token) for token in tokens]\n",
        "\n",
        "    def preprocess(self, text):\n",
        "        \"\"\"Complete preprocessing pipeline\"\"\"\n",
        "        cleaned = self.clean_text(text)\n",
        "        tokens = self.tokenize_and_filter(cleaned)\n",
        "        processed_tokens = self.stem_or_lemmatize(tokens)\n",
        "        return ' '.join(processed_tokens)"
      ],
      "execution_count": 69,
      "outputs": []
    },
    {
      "cell_type": "code",
      "metadata": {
        "id": "7f595530"
      },
      "source": [
        "# Instantiate the pipeline\n",
        "preprocessor = TextPreprocessor(use_stemming=True, remove_stopwords=True)"
      ],
      "execution_count": 70,
      "outputs": []
    },
    {
      "cell_type": "code",
      "metadata": {
        "colab": {
          "base_uri": "https://localhost:8080/"
        },
        "id": "7dba0844",
        "outputId": "fa9b3ffa-bfb2-469e-eac4-7390ec871f62"
      },
      "source": [
        "# Demonstrate preprocessing impact\n",
        "print(\"=== PREPROCESSING DEMONSTRATION ===\")\n",
        "sample_text = \"FREE Ringtone! Text TONE to 8007 for your chance to win a £100 weekly!\"\n",
        "print(f\"Original text: {sample_text}\")\n",
        "print(f\"Processed text: {preprocessor.preprocess(sample_text)}\")"
      ],
      "execution_count": 71,
      "outputs": [
        {
          "output_type": "stream",
          "name": "stdout",
          "text": [
            "=== PREPROCESSING DEMONSTRATION ===\n",
            "Original text: FREE Ringtone! Text TONE to 8007 for your chance to win a £100 weekly!\n",
            "Processed text: free rington text tone chanc win money weekli\n"
          ]
        }
      ]
    },
    {
      "cell_type": "code",
      "source": [
        "# Apply preprocessing to entire dataset\n",
        "print(f\"\\nApplying preprocessing to {len(df)} messages...\")\n",
        "df['processed_message'] = df['message'].apply(preprocessor.preprocess)\n"
      ],
      "metadata": {
        "colab": {
          "base_uri": "https://localhost:8080/"
        },
        "id": "FYoDXAuPBbSU",
        "outputId": "7998b41f-6574-406a-da21-1098f96bc912"
      },
      "execution_count": 72,
      "outputs": [
        {
          "output_type": "stream",
          "name": "stdout",
          "text": [
            "\n",
            "Applying preprocessing to 5572 messages...\n"
          ]
        }
      ]
    },
    {
      "cell_type": "code",
      "source": [
        "# Show before/after comparison\n",
        "print(f\"\\n=== BEFORE/AFTER COMPARISON ===\")\n",
        "for i in range(3):\n",
        "    print(f\"\\nExample {i+1}:\")\n",
        "    print(f\"Original:  {df.iloc[i]['message']}\")\n",
        "    print(f\"Processed: {df.iloc[i]['processed_message']}\")"
      ],
      "metadata": {
        "colab": {
          "base_uri": "https://localhost:8080/"
        },
        "id": "bPZbs6rpCum1",
        "outputId": "32e6f07c-71da-41a2-ac2b-f2c9070ea22e"
      },
      "execution_count": 73,
      "outputs": [
        {
          "output_type": "stream",
          "name": "stdout",
          "text": [
            "\n",
            "=== BEFORE/AFTER COMPARISON ===\n",
            "\n",
            "Example 1:\n",
            "Original:  Squeeeeeze!! This is christmas hug.. If u lik my frndshp den hug me back.. If u get 3 u r cute:) 6 u r luvd:* 9 u r so lucky;) None? People hate u:\n",
            "Processed: squeeeeez christma hug lik frndshp den hug back get cute luvd lucki none peopl hate\n",
            "\n",
            "Example 2:\n",
            "Original:  And also I've sorta blown him off a couple times recently so id rather not text him out of the blue looking for weed\n",
            "Processed: also sorta blown coupl time recent id rather text blue look weed\n",
            "\n",
            "Example 3:\n",
            "Original:  Mmm thats better now i got a roast down me! id b better if i had a few drinks down me 2! Good indian?\n",
            "Processed: mmm that better got roast better drink good indian\n"
          ]
        }
      ]
    },
    {
      "cell_type": "markdown",
      "source": [
        "================================================================================\n",
        "# 3. FEATURE ENGINEERING\n",
        "================================================================================"
      ],
      "metadata": {
        "id": "OwbVlTj3DNNY"
      }
    },
    {
      "cell_type": "code",
      "source": [
        "# Prepare data splits first\n",
        "X = df['processed_message']\n",
        "y = df['label']\n",
        "\n",
        "# Split data (70% train, 10% validation, 20% test)\n",
        "X_temp, X_test, y_temp, y_test = train_test_split(X, y, test_size=0.2, random_state=42, stratify=y)\n",
        "X_train, X_val, y_train, y_val = train_test_split(X_temp, y_temp, test_size=0.125, random_state=42, stratify=y_temp)\n",
        "\n",
        "print(f\"Training set size: {len(X_train)}\")\n",
        "print(f\"Validation set size: {len(X_val)}\")\n",
        "print(f\"Test set size: {len(X_test)}\")"
      ],
      "metadata": {
        "colab": {
          "base_uri": "https://localhost:8080/"
        },
        "id": "cEaiZ4lXDY0-",
        "outputId": "973f3b8a-e280-4c41-b716-e1cb73771b1d"
      },
      "execution_count": 74,
      "outputs": [
        {
          "output_type": "stream",
          "name": "stdout",
          "text": [
            "Training set size: 3899\n",
            "Validation set size: 558\n",
            "Test set size: 1115\n"
          ]
        }
      ]
    },
    {
      "cell_type": "markdown",
      "source": [
        "## 3A. SPARSE REPRESENTATIONS\n"
      ],
      "metadata": {
        "id": "xRLmB71ZDoWG"
      }
    },
    {
      "cell_type": "code",
      "source": [
        "# Bag of Words (Unigrams)\n",
        "bow_vectorizer = CountVectorizer(max_features=5000, ngram_range=(1,1))\n",
        "X_train_bow = bow_vectorizer.fit_transform(X_train)\n",
        "X_val_bow = bow_vectorizer.transform(X_val)\n",
        "X_test_bow = bow_vectorizer.transform(X_test)\n",
        "\n",
        "print(f\"Bag of Words shape: {X_train_bow.shape}\")\n",
        "print(f\"Feature names sample: {bow_vectorizer.get_feature_names_out()[:10]}\")"
      ],
      "metadata": {
        "colab": {
          "base_uri": "https://localhost:8080/"
        },
        "id": "RGg_p4TVDhxI",
        "outputId": "6223ab91-81f5-46f3-f539-a2dfa41510a9"
      },
      "execution_count": 76,
      "outputs": [
        {
          "output_type": "stream",
          "name": "stdout",
          "text": [
            "Bag of Words shape: (3899, 5000)\n",
            "Feature names sample: ['aah' 'aathi' 'abel' 'aberdeen' 'abi' 'abil' 'abiola' 'abj' 'abl'\n",
            " 'abroad']\n"
          ]
        }
      ]
    },
    {
      "cell_type": "code",
      "source": [
        "# TF-IDF (Unigrams + Bigrams)\n",
        "tfidf_vectorizer = TfidfVectorizer(max_features=5000, ngram_range=(1,2))\n",
        "X_train_tfidf = tfidf_vectorizer.fit_transform(X_train)\n",
        "X_val_tfidf = tfidf_vectorizer.transform(X_val)\n",
        "X_test_tfidf = tfidf_vectorizer.transform(X_test)\n",
        "\n",
        "print(f\"TF-IDF shape: {X_train_tfidf.shape}\")\n",
        "print(f\"TF-IDF features sample: {tfidf_vectorizer.get_feature_names_out()[:10]}\")"
      ],
      "metadata": {
        "colab": {
          "base_uri": "https://localhost:8080/"
        },
        "id": "PoWqEznJD0yG",
        "outputId": "c5019858-f1ee-4c4c-bd2e-1decbee952b4"
      },
      "execution_count": 77,
      "outputs": [
        {
          "output_type": "stream",
          "name": "stdout",
          "text": [
            "TF-IDF shape: (3899, 5000)\n",
            "TF-IDF features sample: ['aah' 'aathi' 'aathi dear' 'abi' 'abiola' 'abl' 'abt' 'abt tht' 'abta'\n",
            " 'abta complimentari']\n"
          ]
        }
      ]
    },
    {
      "cell_type": "markdown",
      "source": [
        "## 3B. DENSE REPRESENTATIONS (Word Embeddings)"
      ],
      "metadata": {
        "id": "rATmRcnuEIp6"
      }
    },
    {
      "cell_type": "code",
      "source": [
        "# Prepare tokenized sentences for Word2Vec\n",
        "tokenized_sentences = [text.split() for text in X_train if text.strip()]\n"
      ],
      "metadata": {
        "id": "K8FnF4Y-EDb2"
      },
      "execution_count": 78,
      "outputs": []
    },
    {
      "cell_type": "code",
      "source": [
        "# Train Word2Vec model (Skip-gram)\n",
        "print(\"Training Word2Vec model...\")\n",
        "w2v_model = Word2Vec(\n",
        "    sentences=tokenized_sentences,\n",
        "    vector_size=100,\n",
        "    window=5,\n",
        "    min_count=2,\n",
        "    workers=4,\n",
        "    sg=1,  # Skip-gram\n",
        "    seed=42\n",
        ")\n",
        "\n",
        "print(f\"Word2Vec vocabulary size: {len(w2v_model.wv.key_to_index)}\")"
      ],
      "metadata": {
        "colab": {
          "base_uri": "https://localhost:8080/"
        },
        "id": "S5OWvBfDEUfY",
        "outputId": "7394d604-7335-4ee4-8f58-97080e8aa3c1"
      },
      "execution_count": 79,
      "outputs": [
        {
          "output_type": "stream",
          "name": "stdout",
          "text": [
            "Training Word2Vec model...\n",
            "Word2Vec vocabulary size: 2630\n"
          ]
        }
      ]
    },
    {
      "cell_type": "code",
      "source": [
        "print(f\"Word2Vec vocabulary size: {len(w2v_model.wv.key_to_index)}\")\n",
        "\n",
        "def get_document_vector(text, model, vector_size):\n",
        "    \"\"\"Convert document to vector by averaging word vectors\"\"\"\n",
        "    words = text.split()\n",
        "    word_vectors = []\n",
        "\n",
        "    for word in words:\n",
        "        if word in model.wv.key_to_index:\n",
        "            word_vectors.append(model.wv[word])\n",
        "\n",
        "    if word_vectors:\n",
        "        return np.mean(word_vectors, axis=0)\n",
        "    else:\n",
        "        return np.zeros(vector_size)"
      ],
      "metadata": {
        "colab": {
          "base_uri": "https://localhost:8080/"
        },
        "id": "Xx4Tf0SDEbiM",
        "outputId": "896403fe-afd5-4790-c16d-92eed88c4b5f"
      },
      "execution_count": 80,
      "outputs": [
        {
          "output_type": "stream",
          "name": "stdout",
          "text": [
            "Word2Vec vocabulary size: 2630\n"
          ]
        }
      ]
    },
    {
      "cell_type": "code",
      "source": [
        "# Convert documents to vectors\n",
        "print(\"Converting documents to dense vectors...\")\n",
        "X_train_w2v = np.array([get_document_vector(text, w2v_model, 100) for text in X_train])\n",
        "X_val_w2v = np.array([get_document_vector(text, w2v_model, 100) for text in X_val])\n",
        "X_test_w2v = np.array([get_document_vector(text, w2v_model, 100) for text in X_test])\n",
        "\n",
        "print(f\"Word2Vec embeddings shape: {X_train_w2v.shape}\")"
      ],
      "metadata": {
        "colab": {
          "base_uri": "https://localhost:8080/"
        },
        "id": "VkPWIitlEf9J",
        "outputId": "81575d0f-310b-421e-809e-187f1db469bb"
      },
      "execution_count": 81,
      "outputs": [
        {
          "output_type": "stream",
          "name": "stdout",
          "text": [
            "Converting documents to dense vectors...\n",
            "Word2Vec embeddings shape: (3899, 100)\n"
          ]
        }
      ]
    },
    {
      "cell_type": "markdown",
      "source": [
        "### WORD SIMILARITIES"
      ],
      "metadata": {
        "id": "K0pNIUxpErJf"
      }
    },
    {
      "cell_type": "code",
      "source": [
        "try:\n",
        "    if 'free' in w2v_model.wv.key_to_index:\n",
        "        similar_words = w2v_model.wv.most_similar('free', topn=5)\n",
        "        print(f\"Words similar to 'free': {similar_words}\")\n",
        "except:\n",
        "    print(\"Not enough vocabulary for similarity demonstration\")\n",
        "\n"
      ],
      "metadata": {
        "colab": {
          "base_uri": "https://localhost:8080/"
        },
        "id": "1ozhPvXnEleD",
        "outputId": "22507451-2fac-4ec5-d557-160b4aa71fda"
      },
      "execution_count": 82,
      "outputs": [
        {
          "output_type": "stream",
          "name": "stdout",
          "text": [
            "Words similar to 'free': [('tone', 0.994796872138977), ('mobil', 0.9928429126739502), ('nokia', 0.992698609828949), ('repli', 0.9865366220474243), ('txt', 0.9858647584915161)]\n"
          ]
        }
      ]
    },
    {
      "cell_type": "markdown",
      "source": [
        "#### 3C. OPTIONAL: Simple Markov Chain for Text Generation"
      ],
      "metadata": {
        "id": "9JEXuF2gE8R2"
      }
    },
    {
      "cell_type": "code",
      "source": [
        "class SimpleMarkovChain:\n",
        "    \"\"\"Simple character-level 3-gram Markov chain for text generation\"\"\"\n",
        "\n",
        "    def __init__(self, order=3):\n",
        "        self.order = order\n",
        "        self.chain = {}\n",
        "\n",
        "    def train(self, texts):\n",
        "        \"\"\"Train the Markov chain on a collection of texts\"\"\"\n",
        "        # Combine all texts\n",
        "        combined_text = ' '.join(texts)\n",
        "\n",
        "        # Build n-gram chain\n",
        "        for i in range(len(combined_text) - self.order):\n",
        "            key = combined_text[i:i + self.order]\n",
        "            next_char = combined_text[i + self.order]\n",
        "\n",
        "            if key not in self.chain:\n",
        "                self.chain[key] = []\n",
        "            self.chain[key].append(next_char)\n",
        "\n",
        "    def generate(self, length=100, seed=None):\n",
        "        \"\"\"Generate text using the trained chain\"\"\"\n",
        "        if not self.chain:\n",
        "            return \"Chain not trained\"\n",
        "\n",
        "        if seed is None:\n",
        "            seed = np.random.choice(list(self.chain.keys()))\n",
        "\n",
        "        result = seed\n",
        "        current = seed\n",
        "\n",
        "        for _ in range(length - self.order):\n",
        "            if current in self.chain:\n",
        "                next_char = np.random.choice(self.chain[current])\n",
        "                result += next_char\n",
        "                current = current[1:] + next_char\n",
        "            else:\n",
        "                # Start with a new random seed\n",
        "                current = np.random.choice(list(self.chain.keys()))\n",
        "                result += current\n",
        "\n",
        "        return result"
      ],
      "metadata": {
        "id": "mOPju_zVE3ip"
      },
      "execution_count": 83,
      "outputs": []
    },
    {
      "cell_type": "code",
      "source": [
        "# Train Markov chain on spam messages for demonstration\n",
        "spam_messages = df[df['label'] == 'spam']['message'].tolist()\n",
        "markov_chain = SimpleMarkovChain(order=3)\n",
        "markov_chain.train(spam_messages)\n",
        "\n",
        "print(\"Generated sample texts (spam-like):\")\n",
        "for i in range(5):\n",
        "    generated = markov_chain.generate(length=60)\n",
        "    print(f\"{i+1}. {generated}\")"
      ],
      "metadata": {
        "colab": {
          "base_uri": "https://localhost:8080/"
        },
        "id": "X51XMFZ9FFev",
        "outputId": "a8db918d-1181-4e73-8ebb-61941c7d4ec3"
      },
      "execution_count": 84,
      "outputs": [
        {
          "output_type": "stream",
          "name": "stdout",
          "text": [
            "Generated sample texts (spam-like):\n",
            "1. 1ff9*3788 need 320 Justomore sexy? Sear We won aware care ne\n",
            "2. s\", just 2 U've & it call 0905809465 (18+  Ring to 80150pmmo\n",
            "3. sked STOP to gentry 4* Cost£1.50/pm, PO BOX42WR29C, 1x150p 2\n",
            "4. p 0800839402073 Live your 200 Sub. TXTAUCTION!Txt oldDiginaw\n",
            "5. X Lucozader? Reply 3 holid ur 20p Charged to Send 6 mobile: \n"
          ]
        }
      ]
    },
    {
      "cell_type": "markdown",
      "source": [
        "4. MODELLING & EVALUATION (30 pts)"
      ],
      "metadata": {
        "id": "6xH0lUFOG0UK"
      }
    },
    {
      "cell_type": "code",
      "source": [
        "# Initialize models\n",
        "models = {\n",
        "    'Multinomial Naive Bayes (BoW)': MultinomialNB(),\n",
        "    'Multinomial Naive Bayes (TF-IDF)': MultinomialNB(),\n",
        "    'Logistic Regression (BoW)': LogisticRegression(random_state=42, max_iter=1000),\n",
        "    'Logistic Regression (TF-IDF)': LogisticRegression(random_state=42, max_iter=1000),\n",
        "    'Logistic Regression (Word2Vec)': LogisticRegression(random_state=42, max_iter=1000),\n",
        "    'Linear SVM (BoW)': LinearSVC(random_state=42, max_iter=1000),\n",
        "    'Linear SVM (TF-IDF)': LinearSVC(random_state=42, max_iter=1000),\n",
        "    'Linear SVM (Word2Vec)': LinearSVC(random_state=42, max_iter=1000)\n",
        "}"
      ],
      "metadata": {
        "id": "Nfn7gxdmGA2p"
      },
      "execution_count": 86,
      "outputs": []
    },
    {
      "cell_type": "code",
      "source": [
        "# Feature sets\n",
        "feature_sets = {\n",
        "    'BoW': (X_train_bow, X_val_bow, X_test_bow),\n",
        "    'TF-IDF': (X_train_tfidf, X_val_tfidf, X_test_tfidf),\n",
        "    'Word2Vec': (X_train_w2v, X_val_w2v, X_test_w2v)\n",
        "}"
      ],
      "metadata": {
        "id": "ivx1RB-BG9Q5"
      },
      "execution_count": 88,
      "outputs": []
    },
    {
      "cell_type": "code",
      "source": [
        "# Results storage\n",
        "results = []\n",
        "\n",
        "def evaluate_model(model, X_train, X_val, X_test, y_train, y_val, y_test, model_name):\n",
        "    \"\"\"Train and evaluate a model, return metrics\"\"\"\n",
        "\n",
        "    # Train model\n",
        "    model.fit(X_train, y_train)\n",
        "\n",
        "    # Predictions\n",
        "    y_val_pred = model.predict(X_val)\n",
        "    y_test_pred = model.predict(X_test)\n",
        "\n",
        "    # Calculate metrics\n",
        "    val_accuracy = accuracy_score(y_val, y_val_pred)\n",
        "    test_accuracy = accuracy_score(y_test, y_test_pred)\n",
        "\n",
        "    # Precision, Recall, F1 (macro average)\n",
        "    val_precision, val_recall, val_f1, _ = precision_recall_fscore_support(\n",
        "        y_val, y_val_pred, average='macro', zero_division=0\n",
        "    )\n",
        "    test_precision, test_recall, test_f1, _ = precision_recall_fscore_support(\n",
        "        y_test, y_test_pred, average='macro', zero_division=0\n",
        "    )\n",
        "\n",
        "    return {\n",
        "        'Model': model_name,\n",
        "        'Val_Accuracy': val_accuracy,\n",
        "        'Val_Precision': val_precision,\n",
        "        'Val_Recall': val_recall,\n",
        "        'Val_F1': val_f1,\n",
        "        'Test_Accuracy': test_accuracy,\n",
        "        'Test_Precision': test_precision,\n",
        "        'Test_Recall': test_recall,\n",
        "        'Test_F1': test_f1\n",
        "    }"
      ],
      "metadata": {
        "id": "-o4C1JD6HBhV"
      },
      "execution_count": 89,
      "outputs": []
    },
    {
      "cell_type": "code",
      "source": [
        "# Train and evaluate all models\n",
        "print(\"Training and evaluating models...\")"
      ],
      "metadata": {
        "colab": {
          "base_uri": "https://localhost:8080/"
        },
        "id": "VnmkPU66HKKs",
        "outputId": "b09c3305-b8ff-4477-f416-d7cce1fba314"
      },
      "execution_count": 90,
      "outputs": [
        {
          "output_type": "stream",
          "name": "stdout",
          "text": [
            "Training and evaluating models...\n"
          ]
        }
      ]
    },
    {
      "cell_type": "code",
      "source": [
        "# Naive Bayes models (only work with sparse features)\n",
        "for feature_name in ['BoW', 'TF-IDF']:\n",
        "    X_train_feat, X_val_feat, X_test_feat = feature_sets[feature_name]\n",
        "    model_name = f'Multinomial Naive Bayes ({feature_name})'\n",
        "\n",
        "    result = evaluate_model(\n",
        "        MultinomialNB(),\n",
        "        X_train_feat, X_val_feat, X_test_feat,\n",
        "        y_train, y_val, y_test,\n",
        "        model_name\n",
        "    )\n",
        "    results.append(result)\n",
        "    print(f\"✓ {model_name}\")"
      ],
      "metadata": {
        "colab": {
          "base_uri": "https://localhost:8080/"
        },
        "id": "KEo0DqBYHOox",
        "outputId": "d614abe1-cab7-4073-a653-7834c3535078"
      },
      "execution_count": 91,
      "outputs": [
        {
          "output_type": "stream",
          "name": "stdout",
          "text": [
            "✓ Multinomial Naive Bayes (BoW)\n",
            "✓ Multinomial Naive Bayes (TF-IDF)\n"
          ]
        }
      ]
    },
    {
      "cell_type": "code",
      "source": [
        "# Logistic Regression and SVM (work with all features)\n",
        "for algorithm in ['Logistic Regression', 'Linear SVM']:\n",
        "    for feature_name in ['BoW', 'TF-IDF', 'Word2Vec']:\n",
        "        X_train_feat, X_val_feat, X_test_feat = feature_sets[feature_name]\n",
        "        model_name = f'{algorithm} ({feature_name})'\n",
        "\n",
        "        if algorithm == 'Logistic Regression':\n",
        "            model = LogisticRegression(random_state=42, max_iter=1000)\n",
        "        else:\n",
        "            model = LinearSVC(random_state=42, max_iter=1000)\n",
        "\n",
        "        result = evaluate_model(\n",
        "            model,\n",
        "            X_train_feat, X_val_feat, X_test_feat,\n",
        "            y_train, y_val, y_test,\n",
        "            model_name\n",
        "        )\n",
        "        results.append(result)\n",
        "        print(f\"✓ {model_name}\")"
      ],
      "metadata": {
        "colab": {
          "base_uri": "https://localhost:8080/"
        },
        "id": "BV8ER6FUHSmU",
        "outputId": "9e34d048-b1da-42e8-cde7-3d7bb6803863"
      },
      "execution_count": 92,
      "outputs": [
        {
          "output_type": "stream",
          "name": "stdout",
          "text": [
            "✓ Logistic Regression (BoW)\n",
            "✓ Logistic Regression (TF-IDF)\n",
            "✓ Logistic Regression (Word2Vec)\n",
            "✓ Linear SVM (BoW)\n",
            "✓ Linear SVM (TF-IDF)\n",
            "✓ Linear SVM (Word2Vec)\n"
          ]
        }
      ]
    },
    {
      "cell_type": "code",
      "source": [
        "# Create results DataFrame\n",
        "results_df = pd.DataFrame(results)"
      ],
      "metadata": {
        "id": "SqwKuLVHHWPm"
      },
      "execution_count": 93,
      "outputs": []
    },
    {
      "cell_type": "code",
      "source": [
        "# Display results table\n",
        "print(f\"\\n=== MODEL PERFORMANCE COMPARISON ===\")\n",
        "print(results_df.round(4).to_string(index=False))"
      ],
      "metadata": {
        "colab": {
          "base_uri": "https://localhost:8080/"
        },
        "id": "GHcn1SiuHalN",
        "outputId": "9fd39276-d320-4276-a17a-92a97dbc1ac3"
      },
      "execution_count": 94,
      "outputs": [
        {
          "output_type": "stream",
          "name": "stdout",
          "text": [
            "\n",
            "=== MODEL PERFORMANCE COMPARISON ===\n",
            "                           Model  Val_Accuracy  Val_Precision  Val_Recall  Val_F1  Test_Accuracy  Test_Precision  Test_Recall  Test_F1\n",
            "   Multinomial Naive Bayes (BoW)        0.9821         0.9717      0.9502  0.9606         0.9874          0.9729       0.9729   0.9729\n",
            "Multinomial Naive Bayes (TF-IDF)        0.9606         0.9782      0.8533  0.9029         0.9785          0.9844       0.9223   0.9504\n",
            "       Logistic Regression (BoW)        0.9785         0.9879      0.9200  0.9504         0.9874          0.9897       0.9559   0.9719\n",
            "    Logistic Regression (TF-IDF)        0.9552         0.9667      0.8390  0.8889         0.9767          0.9767       0.9213   0.9466\n",
            "  Logistic Regression (Word2Vec)        0.9337         0.8918      0.8040  0.8400         0.9417          0.9065       0.8273   0.8608\n",
            "                Linear SVM (BoW)        0.9785         0.9812      0.9256  0.9510         0.9901          0.9913       0.9659   0.9781\n",
            "             Linear SVM (TF-IDF)        0.9803         0.9761      0.9379  0.9559         0.9892          0.9878       0.9654   0.9762\n",
            "           Linear SVM (Word2Vec)        0.9480         0.9049      0.8630  0.8823         0.9507          0.9220       0.8552   0.8845\n"
          ]
        }
      ]
    },
    {
      "cell_type": "markdown",
      "source": [
        "##  Model Performance Highlights: SMS Spam Classification\n",
        "\n",
        "###  Key Takeaways\n",
        "- **Linear SVM (BoW)** is the top performer with highest overall accuracy (99.01%) and F1-score (97.81%) on the test set.\n",
        "- **Multinomial Naive Bayes (BoW)** provides a strong lightweight baseline, with consistent precision and recall across validation and test.\n",
        "- **Logistic Regression (BoW)** performs well, though slightly below SVM, confirming BoW’s compatibility with linear models.\n",
        "- **TF-IDF** boosts precision but sometimes lowers recall—trade-off to consider for spam filtering where false negatives matter.\n",
        "- **Word2Vec-based models** underperform—suggesting semantic embeddings are less effective here unless task-specific fine-tuning is applied.\n",
        "\n",
        "###  Summary Insights\n",
        "- **BoW remains the most reliable** feature type for spam-heavy, keyword-driven domains like SMS.\n",
        "- **Linear SVM is ideal** for high-stakes filtering, with strong generalization and margin-based robustness.\n",
        "- **Dense embeddings need adaptation** or hybrid approaches to compete with sparse feature models in this use case."
      ],
      "metadata": {
        "id": "jXL83Pd8ICKt"
      }
    },
    {
      "cell_type": "code",
      "source": [
        "# Visualize results\n",
        "plt.figure(figsize=(15, 10))\n",
        "\n",
        "# Test Accuracy comparison\n",
        "plt.subplot(2, 2, 1)\n",
        "plt.barh(results_df['Model'], results_df['Test_Accuracy'])\n",
        "plt.xlabel('Test Accuracy')\n",
        "plt.title('Model Accuracy Comparison')\n",
        "plt.xticks(rotation=45)\n",
        "\n",
        "# Test F1-Score comparison\n",
        "plt.subplot(2, 2, 2)\n",
        "plt.barh(results_df['Model'], results_df['Test_F1'])\n",
        "plt.xlabel('Test F1-Score')\n",
        "plt.title('Model F1-Score Comparison')\n",
        "\n",
        "# Feature type performance\n",
        "plt.subplot(2, 2, 3)\n",
        "feature_performance = results_df.groupby(results_df['Model'].str.extract(r'\\((.*?)\\)')[0])['Test_Accuracy'].mean()\n",
        "feature_performance.plot(kind='bar')\n",
        "plt.xlabel('Feature Type')\n",
        "plt.ylabel('Average Test Accuracy')\n",
        "plt.title('Performance by Feature Type')\n",
        "plt.xticks(rotation=45)\n",
        "\n",
        "# Algorithm performance\n",
        "plt.subplot(2, 2, 4)\n",
        "algorithm_performance = results_df.groupby(results_df['Model'].str.split(' ').str[0])['Test_Accuracy'].mean()\n",
        "algorithm_performance.plot(kind='bar')\n",
        "plt.xlabel('Algorithm')\n",
        "plt.ylabel('Average Test Accuracy')\n",
        "plt.title('Performance by Algorithm')\n",
        "plt.xticks(rotation=45)\n",
        "\n",
        "plt.tight_layout()\n",
        "plt.show()"
      ],
      "metadata": {
        "colab": {
          "base_uri": "https://localhost:8080/",
          "height": 951
        },
        "id": "hkzlnXg4IEtR",
        "outputId": "e33168aa-5ace-48aa-d78d-cdfb3b3c0313"
      },
      "execution_count": 95,
      "outputs": [
        {
          "output_type": "display_data",
          "data": {
            "text/plain": [
              "<Figure size 1500x1000 with 4 Axes>"
            ],
            "image/png": "[encoded data removed]"
          },
          "metadata": {}
        }
      ]
    },
    {
      "cell_type": "code",
      "source": [
        "# Best model analysis\n",
        "best_model_idx = results_df['Test_F1'].idxmax()\n",
        "best_model = results_df.iloc[best_model_idx]\n",
        "print(f\"\\n=== BEST PERFORMING MODEL ===\")\n",
        "print(f\"Model: {best_model['Model']}\")\n",
        "print(f\"Test Accuracy: {best_model['Test_Accuracy']:.4f}\")\n",
        "print(f\"Test F1-Score: {best_model['Test_F1']:.4f}\")\n",
        "print(f\"Test Precision: {best_model['Test_Precision']:.4f}\")\n",
        "print(f\"Test Recall: {best_model['Test_Recall']:.4f}\")"
      ],
      "metadata": {
        "colab": {
          "base_uri": "https://localhost:8080/"
        },
        "id": "t5YPugTxIQoM",
        "outputId": "c9080d81-9949-4e4c-f640-bd96f69f5c85"
      },
      "execution_count": 96,
      "outputs": [
        {
          "output_type": "stream",
          "name": "stdout",
          "text": [
            "\n",
            "=== BEST PERFORMING MODEL ===\n",
            "Model: Linear SVM (BoW)\n",
            "Test Accuracy: 0.9901\n",
            "Test F1-Score: 0.9781\n",
            "Test Precision: 0.9913\n",
            "Test Recall: 0.9659\n"
          ]
        }
      ]
    },
    {
      "cell_type": "markdown",
      "source": [
        "# 5. ANALYSIS & DISCUSSION"
      ],
      "metadata": {
        "id": "aZQqdLWRIgO2"
      }
    },
    {
      "cell_type": "code",
      "source": [
        "print(\"\"\"\n",
        "=== GENERATIVE vs DISCRIMINATIVE COMPARISON ===\n",
        "\n",
        "GENERATIVE (Naive Bayes):\n",
        "- Models P(X|Y) and P(Y), then uses Bayes rule for P(Y|X)\n",
        "- Makes strong independence assumptions\n",
        "- Works well with small datasets\n",
        "- Fast training and prediction\n",
        "- Good baseline performance\n",
        "\n",
        "DISCRIMINATIVE (Logistic Regression, SVM):\n",
        "- Directly models P(Y|X)\n",
        "- No independence assumptions\n",
        "- Generally better performance with sufficient data\n",
        "- More robust to feature correlations\n",
        "- Better handling of overlapping classes\n",
        "\n",
        "RESULTS ANALYSIS:\n",
        "\"\"\")\n",
        "\n",
        "# Compare generative vs discriminative\n",
        "nb_results = results_df[results_df['Model'].str.contains('Naive Bayes')]\n",
        "lr_results = results_df[results_df['Model'].str.contains('Logistic Regression')]\n",
        "\n",
        "print(f\"Average Naive Bayes F1-Score: {nb_results['Test_F1'].mean():.4f}\")\n",
        "print(f\"Average Logistic Regression F1-Score: {lr_results['Test_F1'].mean():.4f}\")"
      ],
      "metadata": {
        "colab": {
          "base_uri": "https://localhost:8080/"
        },
        "id": "1gF0fMOxKM2_",
        "outputId": "1893b509-5a7c-4fc5-b4b0-f85c40dcac71"
      },
      "execution_count": 102,
      "outputs": [
        {
          "output_type": "stream",
          "name": "stdout",
          "text": [
            "\n",
            "=== GENERATIVE vs DISCRIMINATIVE COMPARISON ===\n",
            "\n",
            "GENERATIVE (Naive Bayes):\n",
            "- Models P(X|Y) and P(Y), then uses Bayes rule for P(Y|X)\n",
            "- Makes strong independence assumptions\n",
            "- Works well with small datasets\n",
            "- Fast training and prediction\n",
            "- Good baseline performance\n",
            "\n",
            "DISCRIMINATIVE (Logistic Regression, SVM):\n",
            "- Directly models P(Y|X)\n",
            "- No independence assumptions\n",
            "- Generally better performance with sufficient data\n",
            "- More robust to feature correlations\n",
            "- Better handling of overlapping classes\n",
            "\n",
            "RESULTS ANALYSIS:\n",
            "\n",
            "Average Naive Bayes F1-Score: 0.9616\n",
            "Average Logistic Regression F1-Score: 0.9264\n"
          ]
        }
      ]
    },
    {
      "cell_type": "code",
      "source": [
        "print(f\"\"\"\n",
        "=== FEATURE REPRESENTATION ANALYSIS ===\n",
        "\n",
        "BAG OF WORDS:\n",
        "- Simple word counts\n",
        "- Sparse representation\n",
        "- Fast and memory efficient\n",
        "- Loses word order information\n",
        "- Good baseline performance\n",
        "\n",
        "TF-IDF:\n",
        "- Weights terms by importance\n",
        "- Reduces impact of common words\n",
        "- Better than BoW for most tasks\n",
        "- Still sparse representation\n",
        "- Good performance/complexity trade-off\n",
        "\n",
        "WORD2VEC EMBEDDINGS:\n",
        "- Dense semantic representations\n",
        "- Captures word relationships\n",
        "- Requires more data to train\n",
        "- Computationally expensive\n",
        "- May lose task-specific information\n",
        "\n",
        "RESULTS BY FEATURE TYPE:\n",
        "\"\"\")\n",
        "\n",
        "for feature_type in ['BoW', 'TF-IDF', 'Word2Vec']:\n",
        "    feat_results = results_df[results_df['Model'].str.contains(f'({feature_type})')]\n",
        "    if not feat_results.empty:\n",
        "        print(f\"{feature_type}: Avg F1 = {feat_results['Test_F1'].mean():.4f}\")"
      ],
      "metadata": {
        "colab": {
          "base_uri": "https://localhost:8080/"
        },
        "id": "ThC5l3PJKWPq",
        "outputId": "8597366d-a0f1-413f-fcaf-dfccb56d0ba6"
      },
      "execution_count": 103,
      "outputs": [
        {
          "output_type": "stream",
          "name": "stdout",
          "text": [
            "\n",
            "=== FEATURE REPRESENTATION ANALYSIS ===\n",
            "\n",
            "BAG OF WORDS:\n",
            "- Simple word counts\n",
            "- Sparse representation\n",
            "- Fast and memory efficient\n",
            "- Loses word order information\n",
            "- Good baseline performance\n",
            "\n",
            "TF-IDF:\n",
            "- Weights terms by importance\n",
            "- Reduces impact of common words\n",
            "- Better than BoW for most tasks\n",
            "- Still sparse representation\n",
            "- Good performance/complexity trade-off\n",
            "\n",
            "WORD2VEC EMBEDDINGS:\n",
            "- Dense semantic representations\n",
            "- Captures word relationships\n",
            "- Requires more data to train\n",
            "- Computationally expensive\n",
            "- May lose task-specific information\n",
            "\n",
            "RESULTS BY FEATURE TYPE:\n",
            "\n",
            "BoW: Avg F1 = 0.9743\n",
            "TF-IDF: Avg F1 = 0.9577\n",
            "Word2Vec: Avg F1 = 0.8727\n"
          ]
        }
      ]
    },
    {
      "cell_type": "code",
      "source": [
        "print(f\"\"\"\n",
        "=== TRADE-OFFS ANALYSIS ===\n",
        "\n",
        "SPEED:\n",
        "- Naive Bayes: Fastest training and prediction\n",
        "- Logistic Regression: Moderate speed\n",
        "- SVM: Slower training, fast prediction\n",
        "- Word2Vec: Slowest due to embedding computation\n",
        "\n",
        "MEMORY:\n",
        "- Sparse features (BoW, TF-IDF): Memory efficient\n",
        "- Dense embeddings: Higher memory usage\n",
        "- Model complexity varies by algorithm\n",
        "\n",
        "EXPLAINABILITY:\n",
        "- Naive Bayes: Highly interpretable feature weights\n",
        "- Logistic Regression: Interpretable coefficients\n",
        "- SVM: Less interpretable\n",
        "- Word embeddings: Semantic but harder to interpret\n",
        "\n",
        "STAKEHOLDER IMPLICATIONS FOR TELECOM SMS FILTERING:\n",
        "- Need fast real-time processing: Naive Bayes preferred\n",
        "- High accuracy requirements: Best performing discriminative model\n",
        "- Regulatory compliance: Need explainable models\n",
        "- Scalability: Sparse representations more suitable\n",
        "\"\"\")"
      ],
      "metadata": {
        "colab": {
          "base_uri": "https://localhost:8080/"
        },
        "id": "UngUbba-Kby-",
        "outputId": "608e0fec-28b2-4308-c60f-f48f78b35563"
      },
      "execution_count": 104,
      "outputs": [
        {
          "output_type": "stream",
          "name": "stdout",
          "text": [
            "\n",
            "=== TRADE-OFFS ANALYSIS ===\n",
            "\n",
            "SPEED:\n",
            "- Naive Bayes: Fastest training and prediction\n",
            "- Logistic Regression: Moderate speed\n",
            "- SVM: Slower training, fast prediction\n",
            "- Word2Vec: Slowest due to embedding computation\n",
            "\n",
            "MEMORY:\n",
            "- Sparse features (BoW, TF-IDF): Memory efficient\n",
            "- Dense embeddings: Higher memory usage\n",
            "- Model complexity varies by algorithm\n",
            "\n",
            "EXPLAINABILITY:\n",
            "- Naive Bayes: Highly interpretable feature weights\n",
            "- Logistic Regression: Interpretable coefficients\n",
            "- SVM: Less interpretable\n",
            "- Word embeddings: Semantic but harder to interpret\n",
            "\n",
            "STAKEHOLDER IMPLICATIONS FOR TELECOM SMS FILTERING:\n",
            "- Need fast real-time processing: Naive Bayes preferred\n",
            "- High accuracy requirements: Best performing discriminative model\n",
            "- Regulatory compliance: Need explainable models\n",
            "- Scalability: Sparse representations more suitable\n",
            "\n"
          ]
        }
      ]
    },
    {
      "cell_type": "markdown",
      "source": [
        "# 6. REPRODUCIBILITY & CODE QUALITY"
      ],
      "metadata": {
        "id": "SXqTIJpeLGtb"
      }
    },
    {
      "cell_type": "code",
      "source": [
        "print(\"\\n\" + \"=\" * 60)\n",
        "print(\"6. REPRODUCIBILITY SUMMARY\")\n",
        "print(\"=\" * 40)\n",
        "\n",
        "print(\"\"\"\n",
        "REPRODUCIBILITY CHECKLIST:\n",
        "✓ Random seeds set (np.random.seed(42), model random_state=42)\n",
        "✓ Dependencies clearly specified\n",
        "✓ Data preprocessing pipeline documented\n",
        "✓ Model parameters explicitly defined\n",
        "✓ Evaluation methodology standardized\n",
        "✓ Results clearly presented\n",
        "\n",
        "CODE QUALITY FEATURES:\n",
        "✓ Modular design with reusable classes\n",
        "✓ Comprehensive comments and documentation\n",
        "✓ Error handling where appropriate\n",
        "✓ Clear variable names and structure\n",
        "✓ Visualization for better understanding\n",
        "✓ Performance metrics properly calculated\n",
        "\n",
        "REAL-WORLD DEPLOYMENT CONSIDERATIONS:\n",
        "- Model serving infrastructure\n",
        "- A/B testing framework\n",
        "- Monitoring and drift detection\n",
        "- Regular retraining pipeline\n",
        "- Scalability for high message volumes\n",
        "\"\"\")\n",
        "\n",
        "print(f\"\\n=== FINAL SUMMARY ===\")\n",
        "print(f\"✓ Dataset: {len(df)} SMS messages processed\")\n",
        "print(f\"✓ Features: Sparse (BoW, TF-IDF) and Dense (Word2Vec) representations\")\n",
        "print(f\"✓ Models: {len(results)} model configurations evaluated\")\n",
        "print(f\"✓ Best Model: {best_model['Model']} (F1-Score: {best_model['Test_F1']:.4f})\")\n",
        "print(f\"✓ Use Case: SMS spam filtering for telecom operators\")\n",
        "print(f\"✓ Stakeholder Value: Automated protection from spam messages\")\n",
        "\n",
        "print(\"\\n\" + \"=\" * 60)\n",
        "print(\"ASSIGNMENT COMPLETED SUCCESSFULLY!\")\n",
        "print(\"=\" * 60)"
      ],
      "metadata": {
        "colab": {
          "base_uri": "https://localhost:8080/"
        },
        "id": "V9JtKtBHKoNT",
        "outputId": "180b635e-9415-4c9e-fab0-5171b41388b2"
      },
      "execution_count": 105,
      "outputs": [
        {
          "output_type": "stream",
          "name": "stdout",
          "text": [
            "\n",
            "============================================================\n",
            "6. REPRODUCIBILITY SUMMARY\n",
            "========================================\n",
            "\n",
            "REPRODUCIBILITY CHECKLIST:\n",
            "✓ Random seeds set (np.random.seed(42), model random_state=42)\n",
            "✓ Dependencies clearly specified\n",
            "✓ Data preprocessing pipeline documented\n",
            "✓ Model parameters explicitly defined\n",
            "✓ Evaluation methodology standardized\n",
            "✓ Results clearly presented\n",
            "\n",
            "CODE QUALITY FEATURES:\n",
            "✓ Modular design with reusable classes\n",
            "✓ Comprehensive comments and documentation\n",
            "✓ Error handling where appropriate\n",
            "✓ Clear variable names and structure\n",
            "✓ Visualization for better understanding\n",
            "✓ Performance metrics properly calculated\n",
            "\n",
            "REAL-WORLD DEPLOYMENT CONSIDERATIONS:\n",
            "- Model serving infrastructure\n",
            "- A/B testing framework\n",
            "- Monitoring and drift detection\n",
            "- Regular retraining pipeline\n",
            "- Scalability for high message volumes\n",
            "\n",
            "\n",
            "=== FINAL SUMMARY ===\n",
            "✓ Dataset: 5572 SMS messages processed\n",
            "✓ Features: Sparse (BoW, TF-IDF) and Dense (Word2Vec) representations\n",
            "✓ Models: 8 model configurations evaluated\n",
            "✓ Best Model: Linear SVM (BoW) (F1-Score: 0.9781)\n",
            "✓ Use Case: SMS spam filtering for telecom operators\n",
            "✓ Stakeholder Value: Automated protection from spam messages\n",
            "\n",
            "============================================================\n",
            "ASSIGNMENT COMPLETED SUCCESSFULLY!\n",
            "============================================================\n"
          ]
        }
      ]
    }
  ]
}